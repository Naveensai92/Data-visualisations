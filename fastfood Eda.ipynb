{
  "cells": [
    {
      "metadata": {
        "_uuid": "8f2839f25d086af736a60e9eeb907d3b93b6e0e5",
        "_cell_guid": "b1076dfc-b9ad-4769-8c92-a6c4dae69d19",
        "trusted": true,
        "collapsed": true
      },
      "cell_type": "code",
      "source": "import numpy as np \nimport pandas as pd \nimport string\nfrom plotly.offline import init_notebook_mode, iplot\nfrom plotly.graph_objs import *\ninit_notebook_mode(connected=True)\nimport plotly.graph_objs as go\nimport os\nprint(os.listdir(\"../input\"))\ndf = pd.read_csv('../input/FastFoodRestaurants.csv')\n",
      "execution_count": null,
      "outputs": []
    },
    {
      "metadata": {
        "trusted": true,
        "_uuid": "7675b5a2ea9af315180e056363d54730a74e7394",
        "collapsed": true
      },
      "cell_type": "code",
      "source": "df.head()",
      "execution_count": null,
      "outputs": []
    },
    {
      "metadata": {
        "trusted": true,
        "_uuid": "fe515316f1db503aba9b4f3aea8188187794981e",
        "collapsed": true
      },
      "cell_type": "code",
      "source": "print('Total no of columns:',df.shape[1])\nprint('Total no of rows:',df.shape[0])",
      "execution_count": null,
      "outputs": []
    },
    {
      "metadata": {
        "trusted": true,
        "_uuid": "7413f64c76bbd33ef25591d5e4b608ac5503ce05",
        "collapsed": true
      },
      "cell_type": "code",
      "source": "print('countries are:',df.country.unique())\nprint('city are:',df.city.unique())\n",
      "execution_count": null,
      "outputs": []
    },
    {
      "metadata": {
        "trusted": true,
        "_uuid": "2942c388befc4661fbd6fb41c3ebcdea50ed2817",
        "collapsed": true
      },
      "cell_type": "code",
      "source": "cityplt=df.city.value_counts()[:10].plot.bar(title='Top 10 cities')\ncityplt.set_xlabel('city',size=15)\ncityplt.set_ylabel('count',size=15)",
      "execution_count": null,
      "outputs": []
    },
    {
      "metadata": {
        "trusted": true,
        "_uuid": "3c0c1ee1fad6a622d41af9142a37b233d9f66ed3",
        "collapsed": true
      },
      "cell_type": "code",
      "source": "provplt=df.province.value_counts()[:10].plot.bar(title='Top 10 province')\nprovplt.set_xlabel('province',size=15)\nprovplt.set_ylabel('count',size=15)",
      "execution_count": null,
      "outputs": []
    },
    {
      "metadata": {
        "trusted": true,
        "_uuid": "902df47ebe39621a220bc33d5539b446992ec2d7",
        "collapsed": true
      },
      "cell_type": "code",
      "source": "df.name.value_counts()[:10]\n",
      "execution_count": null,
      "outputs": []
    },
    {
      "metadata": {
        "trusted": true,
        "_uuid": "31d407b7a2031ff946e833beab73077e0f707f13",
        "collapsed": true
      },
      "cell_type": "code",
      "source": "df.name=df.name.apply(lambda x: x.lower())\ndf.name=df.name.apply(lambda x:''.join([i for i in x \n                            if i not in string.punctuation]))\n\ndf.name.value_counts()[:10]",
      "execution_count": null,
      "outputs": []
    },
    {
      "metadata": {
        "trusted": true,
        "_uuid": "078ce98ff55de45ef11c04d1b1a7a57e32232d0f",
        "collapsed": true
      },
      "cell_type": "code",
      "source": "nameplt=df.name.value_counts()[:10].plot.bar(title=\"Top 10 Restaurants\")\nnameplt.set_xlabel('Restaurant',size=15)\nnameplt.set_ylabel('count',size=15)",
      "execution_count": null,
      "outputs": []
    },
    {
      "metadata": {
        "trusted": true,
        "_uuid": "e2ae7e01b68059742442eb9ec542a5ee2b38a9f0",
        "collapsed": true
      },
      "cell_type": "code",
      "source": "df['text'] = df['name'] + ',' + df['province'] + ', ' + df['country']\n\nscl = [ [0,\"rgb(5, 10, 172)\"],[0.35,\"rgb(40, 60, 190)\"],[0.5,\"rgb(70, 100, 245)\"],\\\n    [0.6,\"rgb(90, 120, 245)\"],[0.7,\"rgb(106, 137, 247)\"],[1,\"rgb(220, 220, 220)\"] ]\n\ndata = [ dict(\n        type = 'scattergeo',\n        locationmode = 'USA-states',\n        lon = df['longitude'],\n        lat = df['latitude'],\n        text = df['text'],\n        mode = 'markers',\n        marker = dict(\n            size = 4,\n            opacity = 0.5,\n            reversescale = True,\n            autocolorscale = False,\n            symbol = 'circle',\n            line = dict(\n                width=.5,\n                color='rgba(102, 102, 102)'\n            )))]\nlayout = dict(\n        title = 'Restaurants across the country',\n        colorbar = True,\n        geo = dict(\n            scope='usa',\n            projection=dict( type='albers usa' ),\n            showland = True,\n            landcolor = \"rgb(250, 250, 250)\",\n            subunitcolor = \"rgb(217, 217, 217)\",\n            countrycolor = \"rgb(217, 217, 217)\",\n            countrywidth = 0.5,\n            subunitwidth = 0.5\n        ),\n    )\n\nfig = dict( data=data, layout=layout )\niplot( fig, validate=False, filename='all restaurants' )",
      "execution_count": null,
      "outputs": []
    },
    {
      "metadata": {
        "trusted": true,
        "collapsed": true,
        "_uuid": "af7efcd95fa80b598886e98a31d1f5456cdc909b"
      },
      "cell_type": "code",
      "source": "mapbox_access_token='pk.eyJ1IjoibmF2ZWVuOTIiLCJhIjoiY2pqbWlybTc2MTlmdjNwcGJ2NGt1dDFoOSJ9.z5Jt4XxKvu5voCJZBAenjQ'",
      "execution_count": null,
      "outputs": []
    },
    {
      "metadata": {
        "trusted": true,
        "_uuid": "cec9648a67dba53eb8568f25c50daa4070de333b",
        "collapsed": true
      },
      "cell_type": "code",
      "source": "mcd=df[df.name =='mcdonalds']\nmcd_lat = mcd.latitude\nmcd_lon = mcd.longitude\nmcd_city = mcd.city\n\ndata = [\n    go.Scattermapbox(\n        lat=mcd_lat,\n        lon=mcd_lon,\n        mode='markers',\n        marker=dict(\n            size=5,\n            color='rgb(255, 0, 0)',\n            opacity=0.3\n        ))]\nlayout = go.Layout(\n    title='Mcdonalds Restaurants',\n    autosize=True,\n    hovermode='closest',\n    showlegend=False,\n    mapbox=dict(\n        accesstoken=mapbox_access_token,\n        bearing=0,\n        center=dict(\n            lat=38,\n            lon=-94\n        ),\n        pitch=0,\n        zoom=3,\n        style='light'\n    ),\n)\n\nfig = dict(data=data, layout=layout)\niplot(fig, filename='Mcdonalds restaurants')\n\n",
      "execution_count": null,
      "outputs": []
    },
    {
      "metadata": {
        "trusted": true,
        "_uuid": "d098fd4187b686b879f5d33cc84e303c76891c10",
        "collapsed": true
      },
      "cell_type": "code",
      "source": "bg=df[df.name =='burger king']\nbg_lat = bg.latitude\nbg_lon = bg.longitude\nbg_city = bg.city\n\ndata = [\n    go.Scattermapbox(\n        lat=bg_lat,\n        lon=bg_lon,\n        mode='markers',\n        marker=dict(\n            size=5,\n            color='rgb(0,255, 0)',\n            opacity=0.8\n        ))]\nlayout = go.Layout(\n    title='Burgerking Restaurants',\n    autosize=True,\n    hovermode='closest',\n    showlegend=False,\n    mapbox=dict(\n        accesstoken=mapbox_access_token,\n        bearing=0,\n        center=dict(\n            lat=38,\n            lon=-94\n        ),\n        pitch=0,\n        zoom=3,\n        style='light'\n    ),\n)\n\nfig = dict(data=data, layout=layout)\niplot(fig, filename='burgerking restaurants')\n",
      "execution_count": null,
      "outputs": []
    },
    {
      "metadata": {
        "trusted": true,
        "_uuid": "c8fd5099532d72046cc3d23bc5de3a6c197bab9f",
        "collapsed": true
      },
      "cell_type": "code",
      "source": "tb=df[df.name =='taco bell']\ntb_lat = tb.latitude\ntb_lon = tb.longitude\ntb_city = tb.city\n\ndata = [\n    go.Scattermapbox(\n        lat=tb_lat,\n        lon=tb_lon,\n        mode='markers',\n        marker=dict(\n            size=5,\n            color='rgb(0,0,255)',\n            opacity=0.8\n        ))]\nlayout = go.Layout(\n    title='Tacobell Restaurants',\n    autosize=True,\n    hovermode='closest',\n    showlegend=False,\n    mapbox=dict(\n        accesstoken=mapbox_access_token,\n        bearing=0,\n        center=dict(\n            lat=38,\n            lon=-94\n        ),\n        pitch=0,\n        zoom=3,\n        style='light'\n    ),\n)\n\nfig = dict(data=data, layout=layout)\niplot(fig, filename='Tacobell restaurants')",
      "execution_count": null,
      "outputs": []
    },
    {
      "metadata": {
        "trusted": true,
        "collapsed": true,
        "_uuid": "86fa58f0966fd3e6b631909ad60cdaba9761e75a"
      },
      "cell_type": "code",
      "source": "",
      "execution_count": null,
      "outputs": []
    }
  ],
  "metadata": {
    "kernelspec": {
      "display_name": "Python 3",
      "language": "python",
      "name": "python3"
    },
    "language_info": {
      "name": "python",
      "version": "3.6.4",
      "mimetype": "text/x-python",
      "codemirror_mode": {
        "name": "ipython",
        "version": 3
      },
      "pygments_lexer": "ipython3",
      "nbconvert_exporter": "python",
      "file_extension": ".py"
    }
  },
  "nbformat": 4,
  "nbformat_minor": 1
}